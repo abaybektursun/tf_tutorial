{
 "cells": [
  {
   "cell_type": "code",
   "execution_count": null,
   "metadata": {},
   "outputs": [],
   "source": [
    "import tensorflow as tf"
   ]
  },
  {
   "cell_type": "code",
   "execution_count": null,
   "metadata": {},
   "outputs": [],
   "source": [
    "a_1_list = [[1.0, 0.0, 1.0, 0.0, 1.0, 0.0]]\n",
    "a_2_list = [[0.0, 1.0, 0.0, 1.0, 0.0, 1.0]]\n",
    "\n",
    "b_list   = [[1.1, 3.1, 10.1, 2.1, 8.1, 2.1]]"
   ]
  },
  {
   "cell_type": "code",
   "execution_count": null,
   "metadata": {},
   "outputs": [],
   "source": [
    "# a, b will execute on CPU\n",
    "with tf.device('/cpu:0'):\n",
    "    a_1 = tf.constant(a_1_list, name='a1')\n",
    "    a_2 = tf.constant(a_2_list, name='a2')\n",
    "    a = a_1 + a_2\n",
    "    b = tf.constant(b_list, name='b')\n",
    "\n",
    "# c will execute on the GPU\n",
    "with tf.device('/gpu:0'):\n",
    "    b = tf.transpose(b)\n",
    "    c = tf.matmul(a, b)\n",
    "\n",
    "# Creates a session with log_device_placement set to True.\n",
    "sess = tf.Session(config=tf.ConfigProto(log_device_placement=True))"
   ]
  },
  {
   "cell_type": "code",
   "execution_count": null,
   "metadata": {},
   "outputs": [],
   "source": [
    "with tf.Session() as sess:\n",
    "    print(sess.run(c))\n",
    "# When working with multiple devices you should pass this to the tf.Session (handling uncompatibility issues):\n",
    "#      config=tf.ConfigProto(allow_soft_placement=True, log_device_placement=True)"
   ]
  },
  {
   "cell_type": "code",
   "execution_count": null,
   "metadata": {},
   "outputs": [],
   "source": [
    "with tf.Session() as sess:\n",
    "    print(sess.run(a_1 + tf.constant(2.0)))"
   ]
  },
  {
   "cell_type": "code",
   "execution_count": null,
   "metadata": {
    "scrolled": true
   },
   "outputs": [],
   "source": [
    "# Show all the nodes (ops)\n",
    "[n.name for n in tf.get_default_graph().as_graph_def().node]"
   ]
  },
  {
   "cell_type": "code",
   "execution_count": null,
   "metadata": {},
   "outputs": [],
   "source": [
    "p1 = tf.placeholder(tf.float32)\n",
    "p2 = tf.placeholder(tf.float32)\n",
    "p_out = p1 + p2\n",
    "# Unlike constants, placeholders need to be fed during runtime\n",
    "with tf.Session() as sess:\n",
    "    print(sess.run(p_out, feed_dict={p1: [2,2,2], p2: [2,2,2]}))"
   ]
  },
  {
   "cell_type": "code",
   "execution_count": null,
   "metadata": {},
   "outputs": [],
   "source": [
    "v1 = tf.Variable(tf.random_normal([3,3],stddev=0.1))\n",
    "v2 = tf.Variable(tf.random_normal([3,3],stddev=0.1))\n",
    "v_out = v1 - v2"
   ]
  },
  {
   "cell_type": "code",
   "execution_count": null,
   "metadata": {},
   "outputs": [],
   "source": [
    "# Can't use Variables without initialization\n",
    "with tf.Session() as sess:\n",
    "    sess.run(tf.global_variables_initializer())\n",
    "    print(sess.run(v_out))"
   ]
  },
  {
   "cell_type": "code",
   "execution_count": null,
   "metadata": {},
   "outputs": [],
   "source": []
  }
 ],
 "metadata": {
  "kernelspec": {
   "display_name": "Python 3",
   "language": "python",
   "name": "python3"
  },
  "language_info": {
   "codemirror_mode": {
    "name": "ipython",
    "version": 3
   },
   "file_extension": ".py",
   "mimetype": "text/x-python",
   "name": "python",
   "nbconvert_exporter": "python",
   "pygments_lexer": "ipython3",
   "version": "3.6.6"
  }
 },
 "nbformat": 4,
 "nbformat_minor": 2
}
