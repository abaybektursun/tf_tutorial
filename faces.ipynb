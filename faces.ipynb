{
 "cells": [
  {
   "cell_type": "code",
   "execution_count": 1,
   "metadata": {},
   "outputs": [],
   "source": [
    "import tensorflow as tf\n",
    "import numpy as np"
   ]
  },
  {
   "cell_type": "code",
   "execution_count": 2,
   "metadata": {},
   "outputs": [],
   "source": [
    "import os\n",
    "import sys\n",
    "import math\n",
    "import pickle"
   ]
  },
  {
   "cell_type": "code",
   "execution_count": 3,
   "metadata": {},
   "outputs": [],
   "source": [
    "import facenet"
   ]
  },
  {
   "cell_type": "code",
   "execution_count": 4,
   "metadata": {},
   "outputs": [],
   "source": [
    "np.random.seed(666)"
   ]
  },
  {
   "cell_type": "code",
   "execution_count": 5,
   "metadata": {},
   "outputs": [],
   "source": [
    "data_dir  = \"/home/abaybektursun/projects/facenet/data/abay/aligned\"\n",
    "model_dir = \"/home/abaybektursun/projects/facenet/data/20180402-114759/\"\n",
    "\n",
    "batch_size = 5\n",
    "image_size = 160\n",
    "\n",
    "classifier_filename = \"recognition_model.pkl\""
   ]
  },
  {
   "cell_type": "code",
   "execution_count": 6,
   "metadata": {},
   "outputs": [],
   "source": [
    "g = tf.Graph()"
   ]
  },
  {
   "cell_type": "code",
   "execution_count": 7,
   "metadata": {
    "scrolled": true
   },
   "outputs": [
    {
     "name": "stdout",
     "output_type": "stream",
     "text": [
      "Model directory: /home/abaybektursun/projects/facenet/data/20180402-114759/\n",
      "Metagraph file: model-20180402-114759.meta\n",
      "Checkpoint file: model-20180402-114759.ckpt-275\n",
      "WARNING:tensorflow:From /usr/local/lib/python3.6/dist-packages/tensorflow/python/training/queue_runner_impl.py:391: QueueRunner.__init__ (from tensorflow.python.training.queue_runner_impl) is deprecated and will be removed in a future version.\n",
      "Instructions for updating:\n",
      "To construct input pipelines, use the `tf.data` module.\n",
      "INFO:tensorflow:Restoring parameters from /home/abaybektursun/projects/facenet/data/20180402-114759/model-20180402-114759.ckpt-275\n"
     ]
    }
   ],
   "source": [
    "with g.as_default():\n",
    "    with tf.Session() as sess:\n",
    "        dataset = facenet.get_dataset(data_dir)\n",
    "        paths, labels = facenet.get_image_paths_and_labels(dataset)\n",
    "        # Restoe model\n",
    "        facenet.load_model(model_dir)\n",
    "        # Get input and output tensors\n",
    "        images_placeholder = g.get_tensor_by_name(\"input:0\")\n",
    "        embeddings = g.get_tensor_by_name(\"embeddings:0\")\n",
    "        phase_train_placeholder = g.get_tensor_by_name(\"phase_train:0\")\n",
    "        embedding_size = embeddings.get_shape()[1]\n",
    "        \n",
    "        # Run forward pass to calculate embeddings\n",
    "        nrof_images = len(paths)\n",
    "        nrof_batches_per_epoch = int(math.ceil(1.0*nrof_images / batch_size))\n",
    "        emb_array = np.zeros((nrof_images, embedding_size))\n",
    "\n",
    "        for i in range(nrof_batches_per_epoch):\n",
    "            start_index = i*batch_size\n",
    "            end_index = min((i+1)*batch_size, nrof_images)\n",
    "\n",
    "            paths_batch = paths[start_index:end_index]\n",
    "            images = facenet.load_data(paths_batch, False, False, image_size)\n",
    "            feed_dict = { images_placeholder:images, phase_train_placeholder:False }\n",
    "            emb_array[start_index:end_index,:] = sess.run(embeddings, feed_dict=feed_dict)"
   ]
  },
  {
   "cell_type": "code",
   "execution_count": null,
   "metadata": {},
   "outputs": [],
   "source": [
    "len([n.name for n in g.as_graph_def().node])"
   ]
  },
  {
   "cell_type": "code",
   "execution_count": null,
   "metadata": {},
   "outputs": [],
   "source": [
    "emb_array.shape"
   ]
  },
  {
   "cell_type": "code",
   "execution_count": null,
   "metadata": {},
   "outputs": [],
   "source": [
    "len(labels)"
   ]
  },
  {
   "cell_type": "code",
   "execution_count": 8,
   "metadata": {},
   "outputs": [],
   "source": [
    "from sklearn.svm import SVC"
   ]
  },
  {
   "cell_type": "code",
   "execution_count": 20,
   "metadata": {},
   "outputs": [],
   "source": [
    "# Train classifier\n",
    "model = SVC(kernel='linear', probability=True)\n",
    "model.fit(emb_array, labels)\n",
    "\n",
    "# Create a list of class names\n",
    "class_names = [ cls.name.replace('_', ' ') for cls in dataset]\n",
    "\n",
    "# Saving classifier model\n",
    "with open(classifier_filename, 'wb') as outfile:\n",
    "    pickle.dump((model, class_names), outfile)\n",
    "predictions = model.predict_proba(emb_array)\n",
    "best_class_indices = np.argmax(predictions, axis=1)"
   ]
  },
  {
   "cell_type": "code",
   "execution_count": 22,
   "metadata": {},
   "outputs": [],
   "source": [
    "from sklearn.metrics import classification_report"
   ]
  },
  {
   "cell_type": "code",
   "execution_count": 23,
   "metadata": {},
   "outputs": [
    {
     "name": "stdout",
     "output_type": "stream",
     "text": [
      "             precision    recall  f1-score   support\n",
      "\n",
      "       abay       1.00      1.00      1.00         7\n",
      "       alua       1.00      1.00      1.00         3\n",
      "       fred       1.00      1.00      1.00         4\n",
      "       mika       1.00      1.00      1.00        12\n",
      "      saiyn       1.00      1.00      1.00         9\n",
      "\n",
      "avg / total       1.00      1.00      1.00        35\n",
      "\n"
     ]
    }
   ],
   "source": [
    "print(classification_report(labels, best_class_indices, target_names=class_names))"
   ]
  },
  {
   "cell_type": "code",
   "execution_count": null,
   "metadata": {},
   "outputs": [],
   "source": []
  }
 ],
 "metadata": {
  "kernelspec": {
   "display_name": "Python 3",
   "language": "python",
   "name": "python3"
  },
  "language_info": {
   "codemirror_mode": {
    "name": "ipython",
    "version": 3
   },
   "file_extension": ".py",
   "mimetype": "text/x-python",
   "name": "python",
   "nbconvert_exporter": "python",
   "pygments_lexer": "ipython3",
   "version": "3.6.6"
  }
 },
 "nbformat": 4,
 "nbformat_minor": 2
}
